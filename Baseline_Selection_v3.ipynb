{
 "cells": [
  {
   "cell_type": "code",
   "execution_count": 1,
   "metadata": {},
   "outputs": [],
   "source": [
    "import uproot as up\n",
    "import awkward as ak\n",
    "import numpy as np"
   ]
  },
  {
   "cell_type": "code",
   "execution_count": 2,
   "metadata": {},
   "outputs": [],
   "source": [
    "import glob"
   ]
  },
  {
   "cell_type": "code",
   "execution_count": 3,
   "metadata": {},
   "outputs": [
    {
     "name": "stdout",
     "output_type": "stream",
     "text": [
      "3  files to do\n"
     ]
    }
   ],
   "source": [
    "#경로상의 모든 root파일 가져오기\n",
    "file_list = glob.glob(\"*.root\")\n",
    "print(len(file_list),\" files to do\")"
   ]
  },
  {
   "cell_type": "code",
   "execution_count": 4,
   "metadata": {},
   "outputs": [],
   "source": [
    "# Baseline Selection 에 필요한 variables 가져오기\n",
    "def get_var(tree):\n",
    "    jet_pt = tree['JetPUPPI/JetPUPPI.PT'].array()\n",
    "    jet_eta = tree['JetPUPPI/JetPUPPI.Eta'].array()\n",
    "    jet_btag = tree['JetPUPPI/JetPUPPI.BTag'].array()\n",
    "    return jet_pt,jet_eta,jet_btag"
   ]
  },
  {
   "cell_type": "code",
   "execution_count": 5,
   "metadata": {},
   "outputs": [],
   "source": [
    "#Baseline Selection 통과한 event의 index 가져오기\n",
    "def get_pass_BS(tree):\n",
    "    selEvents=[]\n",
    "    jet_pt, jet_eta, jet_btag = get_var(tree)\n",
    "    nEvents = len(jet_pt)\n",
    "    for ievt in range(0,nEvents):\n",
    "        selJets = (jet_pt[ievt]>30) & (np.fabs(jet_eta[ievt])<2.4)\n",
    "        if np.sum(selJets) < 5 : continue\n",
    "        selBjets = (jet_btag[ievt][selJets]>30)\n",
    "        if np.sum(selBjets)<1:continue\n",
    "        selEvents.append(ievt)\n",
    "    return selEvents"
   ]
  },
  {
   "cell_type": "code",
   "execution_count": 6,
   "metadata": {},
   "outputs": [
    {
     "name": "stdout",
     "output_type": "stream",
     "text": [
      "Processing  qcd_200.root\n",
      "Number of Selected Events :  208\n",
      "qcd_200_selected.npy  saved!\n",
      "1  of  3  is done\n",
      "Processing  tt_1l.root\n",
      "Number of Selected Events :  3178\n",
      "tt_1l_selected.npy  saved!\n",
      "2  of  3  is done\n",
      "Processing  tt_had.root\n",
      "Number of Selected Events :  5150\n",
      "tt_had_selected.npy  saved!\n",
      "3  of  3  is done\n"
     ]
    }
   ],
   "source": [
    "n_do = 0\n",
    "for infile in file_list:\n",
    "    print(\"Processing \",infile)\n",
    "    f = up.open(infile)\n",
    "    if 'Delphes' not in f : continue\n",
    "    tree = f['Delphes']\n",
    "    if tree == None : continue\n",
    "    selE = get_pass_BS(tree)\n",
    "    print(\"Number of Selected Events : \",len(selE))\n",
    "    \n",
    "    #Get Track , Tower , MET pt eta phi for selected Events\n",
    "    sel_tracks = ak.zip({\n",
    "        \"PT\"  : tree['Track/Track.PT'].array()[selE],\n",
    "        \"Eta\" : tree['Track/Track.Eta'].array()[selE],\n",
    "        \"Phi\" : tree['Track/Track.Phi'].array()[selE]\n",
    "    })\n",
    "    \n",
    "    sel_towers = ak.zip({\n",
    "        \"Eta\"  :tree['Tower/Tower.Eta'].array()[selE],\n",
    "        \"Phi\"  :tree['Tower/Tower.Phi'].array()[selE],\n",
    "        \"Eem\"  :tree['Tower/Tower.Eem'].array()[selE],\n",
    "        \"Ehad\" :tree['Tower/Tower.Ehad'].array()[selE]\n",
    "    })\n",
    "    sel_MET = ak.zip({\n",
    "        \"MET\" : tree['PuppiMissingET/PuppiMissingET.MET'].array()[selE],\n",
    "        \"Eta\" : tree['PuppiMissingET/PuppiMissingET.Eta'].array()[selE],\n",
    "        \"Phi\" : tree['PuppiMissingET/PuppiMissingET.Phi'].array()[selE]\n",
    "    })\n",
    "    \n",
    "    #Save to npy file\n",
    "    #Selected info to dictionary\n",
    "    out={}\n",
    "    out['sel_tracks']=sel_tracks\n",
    "    out['sel_towers']=sel_towers\n",
    "    out['sel_MET']=sel_MET\n",
    "    #make npy file\n",
    "    out_name = infile.split(\".\")[0]+'_selected.npy'\n",
    "    np.save(out_name,out)\n",
    "    print(out_name,\" saved!\")\n",
    "    n_do += 1\n",
    "    print(n_do , \" of \", len(file_list),\" is done\")"
   ]
  }
 ],
 "metadata": {
  "kernelspec": {
   "display_name": "Python 3",
   "language": "python",
   "name": "python3"
  },
  "language_info": {
   "codemirror_mode": {
    "name": "ipython",
    "version": 3
   },
   "file_extension": ".py",
   "mimetype": "text/x-python",
   "name": "python",
   "nbconvert_exporter": "python",
   "pygments_lexer": "ipython3",
   "version": "3.8.5"
  }
 },
 "nbformat": 4,
 "nbformat_minor": 4
}
